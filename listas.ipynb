{
 "cells": [
  {
   "cell_type": "markdown",
   "metadata": {},
   "source": [
    "**Listas - Resumo:**\n",
    "\n",
    "* Listas são sequências mutáveis, normalmente usadas para armazenar coleções de itens.\n",
    "Podemos agrupar um conjunto de dados com listas de maneira ordenada.\n",
    "\n",
    "* Para criar uma lista com valores, são colocados os dados entre colchetes (**[ ]**) separados por vírgula.\n",
    "* Elas também podem armazenar qualquer tipo de item, incluindo números, strings, objetos, outras listas e também outras estruturas de dados.\n",
    "\n",
    "* Todos esses tipos de dados podem ser armazenados juntos em uma mesma lista, pos ela não se limita a armazenar um único tipo de dado.\n"
   ]
  },
  {
   "cell_type": "markdown",
   "metadata": {},
   "source": [
    "* Vamos criar uma **Lista** e salvar as seguintes informações sobre o Wellington:\n",
    "\n",
    "**Nome:** Wellington, **Sexo:** M, **Profissão:** Estudante, **Área:** Computação, **Idade:** 28, **Altura:** 1.70, **Estado Civil:** Solteiro"
   ]
  },
  {
   "cell_type": "code",
   "execution_count": 123,
   "metadata": {},
   "outputs": [
    {
     "name": "stdout",
     "output_type": "stream",
     "text": [
      "['Wellington', 'M', 'Estudante', 'Computação', 29, 1.7, 'Solteiro']\n"
     ]
    }
   ],
   "source": [
    "# Criamos uma Lista com Alguns elementos, cada elemento pode ser representado atráves o seu índice.\n",
    "\n",
    "lista = ['Wellington', 'M', 'Estudante', 'Computação', 29, 1.70, 'Solteiro']\n",
    "\n",
    "print(lista)\n"
   ]
  },
  {
   "cell_type": "markdown",
   "metadata": {},
   "source": [
    "* **Obs:** Cada elemento da lista tem um índice que indica sua posição na lista.\n",
    "\n",
    "* Os índices começam em 0 e vão até o tamanho da lista menos um."
   ]
  },
  {
   "cell_type": "code",
   "execution_count": 63,
   "metadata": {},
   "outputs": [
    {
     "name": "stdout",
     "output_type": "stream",
     "text": [
      "Wellington M Estudante Computação 29 1.7 Solteiro\n",
      "Wellington M Estudante Computação 29 1.7 Solteiro\n"
     ]
    }
   ],
   "source": [
    "# Observe os índices e analise os elementos armazenados em cada Posição:\n",
    "\n",
    "# [0] ou [-7] = Wellington\n",
    "# [1] ou [-6] = M\n",
    "# [2] ou [-5] = Estudante\n",
    "# [3] ou [-4] = Computação\n",
    "# [4] ou [-3] = 29\n",
    "# [5] ou [-2] = 1.70\n",
    "# [6] ou [-1] = Solteiro\n",
    "\n",
    "print(lista[0],lista[1],lista[2],lista[3],lista[4],lista[5],lista[6])\n",
    "\n",
    "print(lista[-7],lista[-6],lista[-5],lista[-4],lista[-3],lista[-2],lista[-1])\n",
    "\n"
   ]
  },
  {
   "cell_type": "markdown",
   "metadata": {},
   "source": [
    "* É possível usar as estruturas de repetição para acessar e ler os valores de uma lista. \n",
    "\n",
    "- A forma mais comum de se fazer isso é utilizando o laço **for**:\n"
   ]
  },
  {
   "cell_type": "code",
   "execution_count": 124,
   "metadata": {},
   "outputs": [
    {
     "name": "stdout",
     "output_type": "stream",
     "text": [
      "Wellington\n",
      "M\n",
      "Estudante\n",
      "Computação\n",
      "29\n",
      "1.7\n",
      "Solteiro\n"
     ]
    }
   ],
   "source": [
    "for elementos in lista:\n",
    "    print(elementos)"
   ]
  },
  {
   "cell_type": "markdown",
   "metadata": {},
   "source": [
    "* Podemos também usar o laço ****while****, através de um contador:\n"
   ]
  },
  {
   "cell_type": "code",
   "execution_count": 125,
   "metadata": {},
   "outputs": [
    {
     "name": "stdout",
     "output_type": "stream",
     "text": [
      "Wellington\n",
      "M\n",
      "Estudante\n",
      "Computação\n",
      "29\n",
      "1.7\n",
      "Solteiro\n"
     ]
    }
   ],
   "source": [
    "contador = 0\n",
    "\n",
    "while contador < 7:\n",
    "    print(lista[contador])\n",
    "    contador = contador + 1"
   ]
  },
  {
   "cell_type": "markdown",
   "metadata": {},
   "source": [
    "* É possível observar que o bloco de código para ler uma lista com while é muito maior que com for. Por isso, quando trabalhamos com estruturas de dados, é preferível utilizar o laço ***for***.\n",
    "\n",
    "* Além disso, podemos usar as mesmas ***funções*** e ***métodos*** utilizados em variáveis únicas como ***strings***, ***inteiros***, ***floats***, etc nos elementos da lista. Mas é preciso que o elemento manipulado seja do tipo de variável que permite a aplicação das funções e métodos. \n",
    "\n",
    "* Por exemplo, é possível deixar o elemento 'Daniel', uma string, em maiúsculas com o método **upper( )**:\n"
   ]
  },
  {
   "cell_type": "code",
   "execution_count": 126,
   "metadata": {},
   "outputs": [
    {
     "name": "stdout",
     "output_type": "stream",
     "text": [
      "['Wellington', 'M', 'Estudante', 'Computação', 29, 1.7, 'Solteiro']\n",
      "WELLINGTON\n"
     ]
    }
   ],
   "source": [
    "print (lista)\n",
    "\n",
    "print(lista[0].upper())\n"
   ]
  },
  {
   "cell_type": "markdown",
   "metadata": {},
   "source": [
    "* Conseguimos também substituir elementos, além de manipulá-los. \n",
    "\n",
    "* Para isso, especificamos o índice do elemento a ser substituído e atribuímos o novo dado com o operador de atribuição. Podemos então substituir a string 'Wellington' por sua correspondente em maiúscula ('WELLINGTON'):"
   ]
  },
  {
   "cell_type": "code",
   "execution_count": 129,
   "metadata": {},
   "outputs": [
    {
     "name": "stdout",
     "output_type": "stream",
     "text": [
      "['WELLINGTON', 'M', 'Estudante', 'Computação', 29, 1.7, 'Solteiro']\n"
     ]
    }
   ],
   "source": [
    "lista[0] = lista[0].upper()\n",
    "\n",
    "print(lista)\n"
   ]
  },
  {
   "cell_type": "markdown",
   "metadata": {},
   "source": [
    "**Métodos com Listas**"
   ]
  },
  {
   "cell_type": "markdown",
   "metadata": {},
   "source": [
    "* Listas oferecem muitas funções e métodos úteis para manipular os itens armazenados, como adicionar, remover, classificar e pesquisar elementos.\n",
    "\n",
    "* Então vamos verificar alguns métodos com listas. Considerando que “lista” é o seguinte conjunto de dados:"
   ]
  },
  {
   "cell_type": "code",
   "execution_count": 5,
   "metadata": {},
   "outputs": [
    {
     "name": "stdout",
     "output_type": "stream",
     "text": [
      "['Wellington', 'M', 'Estudante', 'Computação', 29, 29, 1.7, 'Solteiro']\n"
     ]
    }
   ],
   "source": [
    "lista = ['Wellington', 'M', 'Estudante', 'Computação', 29, 29, 1.70, 'Solteiro']\n",
    "\n",
    "print(lista)"
   ]
  },
  {
   "cell_type": "markdown",
   "metadata": {},
   "source": [
    "* **Método Append( )**: \n",
    "- Adiciona um elemento ao final da Lista."
   ]
  },
  {
   "cell_type": "code",
   "execution_count": 80,
   "metadata": {},
   "outputs": [
    {
     "name": "stdout",
     "output_type": "stream",
     "text": [
      "['Wellington', 'M', 'Estudante', 'Computação', 29, 1.7, 'Solteiro', '29', 29]\n"
     ]
    }
   ],
   "source": [
    "#Exemplo:\n",
    "\n",
    "lista.append(29)\n",
    "\n",
    "print(lista)\n",
    "\n",
    "\n"
   ]
  },
  {
   "cell_type": "markdown",
   "metadata": {},
   "source": [
    "* **Método Clear( )**:\n",
    "\n",
    "* Remove todos os elementos da lista."
   ]
  },
  {
   "cell_type": "code",
   "execution_count": null,
   "metadata": {},
   "outputs": [
    {
     "name": "stdout",
     "output_type": "stream",
     "text": [
      "[]\n"
     ]
    }
   ],
   "source": [
    "#Exemplo:\n",
    "\n",
    "lista.clear()\n",
    "\n",
    "print(lista)\n",
    "\n",
    "#Agora a Lista está vazia."
   ]
  },
  {
   "cell_type": "markdown",
   "metadata": {},
   "source": [
    "- **Método Copy( )**:\n",
    "\n",
    "- Faz uma cópia da lista."
   ]
  },
  {
   "cell_type": "code",
   "execution_count": null,
   "metadata": {},
   "outputs": [
    {
     "name": "stdout",
     "output_type": "stream",
     "text": [
      "['Wellington', 'M', 'Estudante', 'Computação', 29, 1.7, 'Solteiro']\n"
     ]
    }
   ],
   "source": [
    "#Exemplo:\n",
    "\n",
    "lista = ['Wellington', 'M', 'Estudante', 'Computação', 29, 1.70, 'Solteiro']\n",
    "\n",
    "nova_lista = lista.copy()\n",
    "\n",
    "print(nova_lista)\n",
    "\n"
   ]
  },
  {
   "cell_type": "markdown",
   "metadata": {},
   "source": [
    "- **Método Count( )**\n",
    "\n",
    "- Conta quantas vezes um elemento aparece na lista."
   ]
  },
  {
   "cell_type": "code",
   "execution_count": 2,
   "metadata": {},
   "outputs": [
    {
     "data": {
      "text/plain": [
       "2"
      ]
     },
     "execution_count": 2,
     "metadata": {},
     "output_type": "execute_result"
    }
   ],
   "source": [
    "#Exemplo:\n",
    "\n",
    "lista = ['Wellington', 'M', 'Estudante', 'Computação', 29, 29, 1.70, 'Solteiro']\n",
    "\n",
    "lista.count(29)"
   ]
  },
  {
   "cell_type": "markdown",
   "metadata": {},
   "source": [
    "- **Método Extend( )**:\n",
    "\n",
    "- Adiciona os elementos de uma lista ao final da lista atual."
   ]
  },
  {
   "cell_type": "code",
   "execution_count": 103,
   "metadata": {},
   "outputs": [
    {
     "name": "stdout",
     "output_type": "stream",
     "text": [
      "['Wellington', 'M', 'Estudante', 'Computação', 29, 29, 1.7, 'Solteiro', 'Wellington', 'M']\n"
     ]
    }
   ],
   "source": [
    "#Exemplo:\n",
    "\n",
    "lista.extend(['Wellington', 'M'])\n",
    "print(lista)"
   ]
  },
  {
   "cell_type": "markdown",
   "metadata": {},
   "source": [
    "- **Método Index( )**\n",
    "\n",
    "- Retorna o índice do primeiro elemento da Lista com o valor especificado. "
   ]
  },
  {
   "cell_type": "code",
   "execution_count": 139,
   "metadata": {},
   "outputs": [
    {
     "data": {
      "text/plain": [
       "4"
      ]
     },
     "execution_count": 139,
     "metadata": {},
     "output_type": "execute_result"
    }
   ],
   "source": [
    "#Exemplo:\n",
    "\n",
    "lista = ['Wellington', 'M', 'Estudante', 'Computação', 29, 29, 1.70, 'Solteiro']\n",
    "\n",
    "lista.index(29)\n",
    "\n"
   ]
  },
  {
   "cell_type": "markdown",
   "metadata": {},
   "source": [
    "- **Método Insert( )**:\n",
    "\n",
    "- Adiciona um elemento em uma posição específica da lista."
   ]
  },
  {
   "cell_type": "code",
   "execution_count": null,
   "metadata": {},
   "outputs": [
    {
     "name": "stdout",
     "output_type": "stream",
     "text": [
      "['Wellington', 'M', 'Estudante', 'Computação', 29, 'Namorador', 29, 1.7, 'Solteiro']\n"
     ]
    }
   ],
   "source": [
    "#Exemplo: 1º Definimos a posição que queremos adicionar um novo elemento,através do índice, em seguida o elemento.\n",
    "\n",
    "lista.insert(5, \"Namorador\")\n",
    "\n",
    "print(lista)"
   ]
  },
  {
   "cell_type": "markdown",
   "metadata": {},
   "source": [
    "- **Método Pop( )**: \n",
    "\n",
    "- Remove e retorna o elemento na posição especificada (ou na última posição se não for fornecida uma posição"
   ]
  },
  {
   "cell_type": "code",
   "execution_count": 4,
   "metadata": {},
   "outputs": [
    {
     "name": "stdout",
     "output_type": "stream",
     "text": [
      "['Estudante', 'Computação', 29, 29, 1.7, 'Solteiro']\n"
     ]
    }
   ],
   "source": [
    "lista.pop(0)\n",
    "\n",
    "print(lista)"
   ]
  },
  {
   "cell_type": "markdown",
   "metadata": {},
   "source": [
    "- **Método Remove( ):**\n",
    "\n",
    "- Remove o primeiro elemento da lista com o valor especificado."
   ]
  },
  {
   "cell_type": "code",
   "execution_count": 140,
   "metadata": {},
   "outputs": [
    {
     "name": "stdout",
     "output_type": "stream",
     "text": [
      "['Wellington', 'M', 'Estudante', 'Computação', 29, 1.7, 'Solteiro']\n"
     ]
    }
   ],
   "source": [
    "lista.remove(29)\n",
    "\n",
    "print(lista)"
   ]
  },
  {
   "cell_type": "markdown",
   "metadata": {},
   "source": [
    "- **Método Reverse( )**: \n",
    "\n",
    "- Inverte a ordem dos elementos na lista."
   ]
  },
  {
   "cell_type": "code",
   "execution_count": 9,
   "metadata": {},
   "outputs": [
    {
     "name": "stdout",
     "output_type": "stream",
     "text": [
      "['Solteiro', 1.7, 29, 29, 'Computação', 'Estudante', 'M', 'Wellington']\n"
     ]
    }
   ],
   "source": [
    "lista.reverse()\n",
    "\n",
    "print(lista)"
   ]
  },
  {
   "cell_type": "markdown",
   "metadata": {},
   "source": [
    "- **Método Len( )**:\n",
    "\n",
    "- Retorna a quantidade de elementos dentro da lista."
   ]
  },
  {
   "cell_type": "code",
   "execution_count": 13,
   "metadata": {},
   "outputs": [
    {
     "data": {
      "text/plain": [
       "8"
      ]
     },
     "execution_count": 13,
     "metadata": {},
     "output_type": "execute_result"
    }
   ],
   "source": [
    "len(lista)"
   ]
  },
  {
   "cell_type": "markdown",
   "metadata": {},
   "source": [
    "**Particionando uma Lista**\n",
    "\n",
    "- Além dela também existe a estrutura de partição: uma maneira de acessar um subconjunto de elementos de uma lista.\n",
    "\n",
    "- Podemos fazer isso através da estrutura de partição por índices.\n",
    "\n",
    "- O operador de partição de lista é representado pelos colchetes (**[ ]**) e permite que você especifique um intervalo de índices separados por dois pontos (:) para acessar os elementos desejados."
   ]
  },
  {
   "cell_type": "code",
   "execution_count": null,
   "metadata": {},
   "outputs": [
    {
     "name": "stdout",
     "output_type": "stream",
     "text": [
      "['C', 'D']\n"
     ]
    }
   ],
   "source": [
    "#Exemplo:\n",
    "\n",
    "letras = ['A', 'B', 'C', 'D', 'E']\n",
    "\n",
    "# A partir do Indice 2 até o elemento 4\n",
    "\n",
    "print(letras[2:4])"
   ]
  },
  {
   "cell_type": "code",
   "execution_count": null,
   "metadata": {},
   "outputs": [],
   "source": []
  }
 ],
 "metadata": {
  "kernelspec": {
   "display_name": "Python 3",
   "language": "python",
   "name": "python3"
  },
  "language_info": {
   "codemirror_mode": {
    "name": "ipython",
    "version": 3
   },
   "file_extension": ".py",
   "mimetype": "text/x-python",
   "name": "python",
   "nbconvert_exporter": "python",
   "pygments_lexer": "ipython3",
   "version": "3.13.0"
  }
 },
 "nbformat": 4,
 "nbformat_minor": 2
}
