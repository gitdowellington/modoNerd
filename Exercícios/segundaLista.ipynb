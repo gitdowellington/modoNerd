{
 "cells": [
  {
   "cell_type": "markdown",
   "metadata": {},
   "source": [
    "**--->SEGUNDA LISTA DE EXERCÍCIOS:<---**\n",
    "\n",
    "01. Escreva um programa que peça à pessoa usuária para fornecer dois números e exibir o número maior."
   ]
  },
  {
   "cell_type": "code",
   "execution_count": 24,
   "metadata": {},
   "outputs": [
    {
     "name": "stdout",
     "output_type": "stream",
     "text": [
      "O Maior valor é: 2\n"
     ]
    }
   ],
   "source": [
    "p_valor = int(input('Insira o Primeiro Valor:'))\n",
    "s_valor = int(input('Insira o Segundo Valor:'))\n",
    "\n",
    "if p_valor > s_valor:\n",
    "    print(f'O maior valor é: {p_valor}')\n",
    "else:\n",
    "    print(f'O Maior valor é: {s_valor}')\n",
    "\n",
    "\n",
    "\n"
   ]
  },
  {
   "cell_type": "markdown",
   "metadata": {},
   "source": [
    "2. Escreva um programa que solicite o percentual de crescimento de produção de uma empresa e informe se houve um crescimento (porcentagem positiva) ou decrescimento (porcentagem negativa)."
   ]
  },
  {
   "cell_type": "code",
   "execution_count": 25,
   "metadata": {},
   "outputs": [
    {
     "name": "stdout",
     "output_type": "stream",
     "text": [
      "Houve um crecimento na produção de: 3.0 %\n"
     ]
    }
   ],
   "source": [
    "p_crescimento = float(input('Digite o Percentual de crescimento:\\n'))\n",
    "\n",
    "if p_crescimento > 0:\n",
    "    print(f'Houve um crecimento na produção de: {p_crescimento} %')\n",
    "elif p_crescimento < 0:\n",
    "    print(f'Houve um recuo na produção de: {p_crescimento} %')\n",
    "else:\n",
    "    print('Não ocorreu alteração na produção. ')\n",
    "\n"
   ]
  },
  {
   "cell_type": "markdown",
   "metadata": {},
   "source": [
    "3. Escreva um programa que determine se uma letra fornecida pela pessoa usuária é uma vogal ou consoante.\n"
   ]
  },
  {
   "cell_type": "code",
   "execution_count": 26,
   "metadata": {},
   "outputs": [
    {
     "name": "stdout",
     "output_type": "stream",
     "text": [
      "A letra informada é uma Consoante.\n"
     ]
    }
   ],
   "source": [
    "letra = str(input('Digite uma Letra:'))\n",
    "\n",
    "letra = letra.lower()\n",
    "vogais = 'aeiou'\n",
    "\n",
    "if letra in vogais:\n",
    "    print('A letra informada é uma Vogal.')\n",
    "else:\n",
    "    print('A letra informada é uma Consoante.')\n"
   ]
  },
  {
   "cell_type": "markdown",
   "metadata": {},
   "source": [
    "4. Escreva um programa que leia valores médios de preços de um modelo de carro por 3 anos consecutivos e exiba o valor mais alto e mais baixo entre esses três anos."
   ]
  },
  {
   "cell_type": "code",
   "execution_count": 97,
   "metadata": {},
   "outputs": [
    {
     "name": "stdout",
     "output_type": "stream",
     "text": [
      "300.0\n",
      "100.0\n"
     ]
    }
   ],
   "source": [
    "p_ano = float(input('Informe o valor do Primeiro ano:\\n'))\n",
    "s_ano = float(input('Informe o valor do Segundo ano:\\n'))\n",
    "t_ano = float(input('Informe o valor do Terceiro ano:\\n'))\n",
    "\n",
    "maior = 0\n",
    "menor = 0\n",
    "\n",
    "\n",
    "if s_ano < p_ano > t_ano:\n",
    "    maior = p_ano\n",
    "    if s_ano < t_ano:\n",
    "        menor = s_ano\n",
    "    else:\n",
    "        menor = t_ano\n",
    "        \n",
    "\n",
    "elif p_ano < s_ano > t_ano:\n",
    "    maior = s_ano\n",
    "    if p_ano < t_ano:\n",
    "        menor = p_ano\n",
    "    else:\n",
    "        menor = t_ano\n",
    "      \n",
    "\n",
    "elif p_ano < t_ano > s_ano:\n",
    "    maior = t_ano\n",
    "    if p_ano < s_ano:\n",
    "        menor = p_ano\n",
    "    else:\n",
    "        menor = s_ano\n",
    "  \n",
    "    \n",
    "print(maior)\n",
    "print(menor)\n"
   ]
  },
  {
   "cell_type": "markdown",
   "metadata": {},
   "source": [
    "5. Escreva um programa que pergunte sobre o preço de três produtos e indique qual é o produto mais barato para comprar."
   ]
  },
  {
   "cell_type": "code",
   "execution_count": 106,
   "metadata": {},
   "outputs": [
    {
     "data": {
      "text/plain": [
       "50"
      ]
     },
     "execution_count": 106,
     "metadata": {},
     "output_type": "execute_result"
    }
   ],
   "source": [
    "p1 = int(input('Digite o valor do Primeiro produto:'))\n",
    "p2 = int(input('Digite o valor do Segundo produto:'))\n",
    "p3 = int(input('Digite o valor do Terceiro produto:'))\n",
    "\n",
    "maisbarato = 0\n",
    "\n",
    "if p3 > p1 < p2:\n",
    "    maisbarato = p1\n",
    "\n",
    "elif p1 > p2 < p3:\n",
    "    maisbarato = p2\n",
    "\n",
    "elif p1 > p3 < p2:\n",
    "    maisbarato = p3\n",
    "\n",
    "maisbarato\n",
    "\n",
    "\n",
    "\n",
    "\n",
    "\n"
   ]
  },
  {
   "cell_type": "markdown",
   "metadata": {},
   "source": [
    "6. Escreva um programa que leia três números e os exiba em ordem decrescente."
   ]
  },
  {
   "cell_type": "code",
   "execution_count": 121,
   "metadata": {},
   "outputs": [
    {
     "name": "stdout",
     "output_type": "stream",
     "text": [
      "200000 9000 1000\n"
     ]
    }
   ],
   "source": [
    "n1 = int(input('Informe o Primeiro Número:'))\n",
    "n2 = int(input('Informe o Segundo Número:'))\n",
    "n3 = int(input('Informe o Terceiro Número:'))\n",
    "\n",
    "if n3 < n1 > n2:\n",
    "    ma = n1\n",
    "    if n3 > n2:\n",
    "        me = n2\n",
    "        print((n1),(n3),(n2))\n",
    "       \n",
    "    else:\n",
    "        me = n3\n",
    "        print((n1),(n2), (n3))\n",
    "    \n",
    "\n",
    "elif n1 < n2 > n3:\n",
    "    ma = n2\n",
    "    if n1 < n3:\n",
    "        me = n1\n",
    "        print((n2),(n3),(n1))\n",
    "      \n",
    "    else:\n",
    "        me = n3\n",
    "        print((n2),(n1), (n3))\n",
    "        \n",
    "\n",
    "elif n1 < n3 > n2:\n",
    "    ma = n3\n",
    "    if n1 < n2:\n",
    "        me = n1\n",
    "        print((n3),(n2),(n1))\n",
    "\n",
    "    else:\n",
    "        me = n2\n",
    "        print((n3),(n1),(n2))\n",
    "    \n",
    "\n"
   ]
  },
  {
   "cell_type": "markdown",
   "metadata": {},
   "source": [
    "7. Escreva um programa que pergunte em qual turno a pessoa usuária estuda (\"manhã\", \"tarde\" ou \"noite\") e exiba a mensagem \"Bom Dia!\", \"Boa Tarde!\", \"Boa Noite!\", ou \"Valor Inválido!\", conforme o caso.\n"
   ]
  },
  {
   "cell_type": "code",
   "execution_count": 130,
   "metadata": {},
   "outputs": [
    {
     "name": "stdout",
     "output_type": "stream",
     "text": [
      "Boa noite !\n"
     ]
    }
   ],
   "source": [
    "t = int(input('Selecione o Numero, Conforme o seu turno de trabalho: 1 (Manhã) 2 (Tarde) 3 (Noite)'))\n",
    "\n",
    "if t == 1:\n",
    "    print('Bom dia !')\n",
    "elif t == 2:\n",
    "    print('Boa tarde !')\n",
    "elif t == 3:\n",
    "    print('Boa noite !')\n",
    "else:\n",
    "    print('Opção Inválida')\n",
    "\n",
    "\n"
   ]
  },
  {
   "cell_type": "markdown",
   "metadata": {},
   "source": [
    "8. Escreva um programa que peça um número inteiro à pessoa usuária e determine se ele é par ou ímpar. Dica: Você pode utilizar o operador módulo %."
   ]
  },
  {
   "cell_type": "code",
   "execution_count": 141,
   "metadata": {},
   "outputs": [
    {
     "name": "stdout",
     "output_type": "stream",
     "text": [
      "numero IMpar\n"
     ]
    }
   ],
   "source": [
    "n1 = int(input())\n",
    "\n",
    "if (n1%2) == 0:\n",
    "    print('Numero Par')\n",
    "else:\n",
    "    print('numero IMpar')"
   ]
  },
  {
   "cell_type": "markdown",
   "metadata": {},
   "source": [
    "9. Escreva um programa que peça um número à pessoa usuária e informe se ele é inteiro ou decimal."
   ]
  },
  {
   "cell_type": "code",
   "execution_count": 143,
   "metadata": {},
   "outputs": [
    {
     "name": "stdout",
     "output_type": "stream",
     "text": [
      "Decimal\n"
     ]
    }
   ],
   "source": [
    "n1 = float(input())\n",
    "\n",
    "if (n1%1) == 0:\n",
    "    print('Ínteiro')\n",
    "else:\n",
    "    print('Decimal')"
   ]
  },
  {
   "cell_type": "markdown",
   "metadata": {},
   "source": [
    "***Momento dos Projetos:***\n",
    "\n",
    "10. Um programa deve ser escrito para ler dois números e, em seguida, perguntar à pessoa usuária qual operação ele deseja realizar. O resultado da operação deve incluir informações sobre o número - se é par ou ímpar, positivo ou negativo e inteiro ou decimal."
   ]
  },
  {
   "cell_type": "code",
   "execution_count": 2,
   "metadata": {},
   "outputs": [
    {
     "name": "stdout",
     "output_type": "stream",
     "text": [
      "Digite o Primeiro valor:\n",
      "\n",
      "Digite o Segundo valor:\n",
      "\n",
      "Qual Operação você deseja realizar, Digite um Número:\n",
      "\n",
      "1 - (Soma)\n",
      "2 - (Subtração)\n",
      "3 - (Multiplicação)\n",
      "4 - (Divisão)\n",
      "\n",
      "Operação SOMA.\n",
      "\n"
     ]
    }
   ],
   "source": [
    "print ('Digite o Primeiro valor:\\n')\n",
    "n1 = float(input(\"primeiro valor:\\n\"))\n",
    "print ('Digite o Segundo valor:\\n')\n",
    "n2 = float(input(\"Segundo valor:\\n\"))\n",
    "\n",
    "print ('Qual Operação você deseja realizar, Digite um Número:\\n')\n",
    "print('1 - (Soma)')\n",
    "print('2 - (Subtração)') \n",
    "print('3 - (Multiplicação)')\n",
    "print('4 - (Divisão)\\n')\n",
    "\n",
    "op = int(input('Digite a operação: ?\\n'))\n",
    "\n",
    "if op == 1:\n",
    "    print(\"Operação SOMA.\\n\")\n",
    "elif op == 2:\n",
    "    print ('Operação: SUBTRAÇÂO\\n')\n",
    "elif op == 3:\n",
    "    print('Operação: MULTIPLICAÇÃO\\n')\n",
    "elif op == 4:\n",
    "    print('Operação: DIVISÃO\\n')\n",
    "else: \n",
    "    print('Opção Inválida.\\n')\n",
    "\n",
    "\n",
    "resultado = 0\n",
    "\n",
    "if op == 1:\n",
    "    resultado = n1 + n2\n",
    "elif op == 2:\n",
    "    resultado = n1 - n2\n",
    "elif op == 3:\n",
    "    resultado = n1 * n2\n",
    "elif op == 4:\n",
    "    resultado = n1 / n2\n",
    "else: \n",
    "    print('Opção Inválida.\\n')\n",
    "\n",
    "\n",
    "\n",
    "\n",
    "\n",
    "\n"
   ]
  },
  {
   "cell_type": "markdown",
   "metadata": {},
   "source": [
    "11. Escreva um programa que peça à pessoa usuária três números que representam os lados de um triângulo. O programa deve informar se os valores podem ser utilizados para formar um triângulo e, caso afirmativo, se ele é equilátero, isósceles ou escaleno. Tenha em mente algumas dicas:\n",
    "\n",
    "- Três lados formam um triângulo quando a soma de quaisquer dois lados for maior que o terceiro;\n",
    "- Triângulo Equilátero: três lados iguais;\n",
    "- Triângulo Isósceles: quaisquer dois lados iguais;\n",
    "- Triângulo Escaleno: três lados diferentes."
   ]
  },
  {
   "cell_type": "code",
   "execution_count": null,
   "metadata": {},
   "outputs": [],
   "source": []
  },
  {
   "cell_type": "markdown",
   "metadata": {},
   "source": [
    "12. Um estabelecimento está vendendo combustíveis com descontos variados. Para o etanol, se a quantidade comprada for até 15 litros, o desconto será de 2% por litro. Caso contrário, será de 4% por litro. Para o diesel, se a quantidade comprada for até 15 litros, o desconto será de 3% por litro. Caso contrário, será de 5% por litro. O preço do litro de diesel é R$ 2,00 e o preço do litro de etanol é R$ 1,70. Escreva um programa que leia a quantidade de litros vendidos e o tipo de combustível (E para etanol e D para diesel) e calcule o valor a ser pago pelo cliente. Tenha em mente algumas dicas:\n",
    "\n",
    "- O do valor do desconto será a multiplicação entre preço do litro, quantidade de litros e o valor do desconto.\n",
    "- O valor a ser pago por um cliente será o resultado da multiplicação do preço do litro pela quantidade de litros menos o valor de desconto resultante do cálculo."
   ]
  },
  {
   "cell_type": "code",
   "execution_count": null,
   "metadata": {},
   "outputs": [],
   "source": []
  },
  {
   "cell_type": "markdown",
   "metadata": {},
   "source": [
    "13. Em uma empresa de venda de imóveis você precisa criar um código que analise os dados de vendas anuais para ajudar a diretoria na tomada de decisão. O código precisa coletar os dados de quantidade de venda durante os anos de 2022 e 2023 e fazer um cálculo de variação percentual. A partir do valor da variação, deve ser enviada às seguintes sugestões:\n",
    "\n",
    "- Para variação acima de 20%: bonificação para o time de vendas.\n",
    "- Para variação entre 2% e 20%: pequena bonificação para time de vendas.\n",
    "- Para variação entre 2% e -10%: planejamento de políticas de incentivo às vendas.\n",
    "- Para bonificações abaixo de -10%: corte de gastos."
   ]
  },
  {
   "cell_type": "code",
   "execution_count": null,
   "metadata": {},
   "outputs": [],
   "source": []
  }
 ],
 "metadata": {
  "kernelspec": {
   "display_name": "Python 3",
   "language": "python",
   "name": "python3"
  },
  "language_info": {
   "codemirror_mode": {
    "name": "ipython",
    "version": 3
   },
   "file_extension": ".py",
   "mimetype": "text/x-python",
   "name": "python",
   "nbconvert_exporter": "python",
   "pygments_lexer": "ipython3",
   "version": "3.13.0"
  }
 },
 "nbformat": 4,
 "nbformat_minor": 2
}
