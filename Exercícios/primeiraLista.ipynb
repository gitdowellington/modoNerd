{
 "cells": [
  {
   "cell_type": "markdown",
   "metadata": {},
   "source": [
    "**Desafio: Hora da Prática !**\n",
    "\n",
    "Vamos praticar o uso de vários tipos de variáveis e da função input a partir de algumas atividades. Solucione os problemas propostos em código.\n",
    "\n"
   ]
  },
  {
   "cell_type": "markdown",
   "metadata": {},
   "source": [
    "Vamos praticar o uso de vários tipos de variáveis e da função input a partir de algumas atividades. Solucione os problemas propostos em código."
   ]
  },
  {
   "cell_type": "markdown",
   "metadata": {},
   "source": [
    "**--->COLETA E AMOSTRAGEM DE DADOS<---**"
   ]
  },
  {
   "cell_type": "markdown",
   "metadata": {},
   "source": [
    "1. Crie um programa que solicite à pessoa usuária digitar seu nome, e imprima “Olá, [nome]!”."
   ]
  },
  {
   "cell_type": "code",
   "execution_count": null,
   "metadata": {},
   "outputs": [
    {
     "name": "stdout",
     "output_type": "stream",
     "text": [
      "Olá, Wellington !\n"
     ]
    }
   ],
   "source": [
    "nome = str(input('Digite o seu nome:'))\n",
    "\n",
    "print (f'Olá, {nome} !')\n"
   ]
  },
  {
   "cell_type": "markdown",
   "metadata": {},
   "source": [
    "2. Crie um programa que solicite à pessoa usuária digitar seu nome e idade, e imprima “Olá, [nome], você tem [idade] anos.”."
   ]
  },
  {
   "cell_type": "code",
   "execution_count": 2,
   "metadata": {},
   "outputs": [
    {
     "name": "stdout",
     "output_type": "stream",
     "text": [
      "Olá, Wellington, você tem 28 anos.\n"
     ]
    }
   ],
   "source": [
    "nome = str(input('Informe o seu nome:'))\n",
    "idade = int(input('Informe a sua idade:'))\n",
    "\n",
    "print(f'Olá, {nome}, você tem {idade} anos.')"
   ]
  },
  {
   "cell_type": "markdown",
   "metadata": {},
   "source": [
    "3. Crie um programa que solicite à pessoa usuária digitar seu nome, idade e altura em metros, e imprima “Olá, [nome], você tem [idade] anos e mede [altura] metros!”."
   ]
  },
  {
   "cell_type": "code",
   "execution_count": 3,
   "metadata": {},
   "outputs": [
    {
     "name": "stdout",
     "output_type": "stream",
     "text": [
      "Olá, Wellington, você tem 28 anos e mede 1.71 metros!\n"
     ]
    }
   ],
   "source": [
    "nome = str(input('Informe o seu nome:\\n'))\n",
    "idade = int(input('Informe a sua idade:\\n'))\n",
    "altura = float(input('Informe a sua altura:\\n'))\n",
    "\n",
    "print(f'Olá, {nome}, você tem {idade} anos e mede {altura} metros!')"
   ]
  },
  {
   "cell_type": "markdown",
   "metadata": {},
   "source": [
    "***--->CALCULADORA COM OPERADORES<---***"
   ]
  },
  {
   "cell_type": "markdown",
   "metadata": {},
   "source": [
    "1. Crie um programa que solicite dois valores numéricos à pessoa usuária e imprima a soma dos dois valores."
   ]
  },
  {
   "cell_type": "code",
   "execution_count": null,
   "metadata": {},
   "outputs": [
    {
     "name": "stdout",
     "output_type": "stream",
     "text": [
      "A soma é: 5\n"
     ]
    }
   ],
   "source": [
    "p_valor = int(input('Digite o Primeiro Valor:\\n'))\n",
    "s_valor = int(input('Digite o Segundo Valor:\\n'))\n",
    "\n",
    "soma = p_valor + s_valor\n",
    "\n",
    "print(f'O resultado da soma é: {soma}')"
   ]
  },
  {
   "cell_type": "markdown",
   "metadata": {},
   "source": [
    "2. Crie um programa que solicite três valores numéricos à pessoa usuária e imprima a soma dos três valores."
   ]
  },
  {
   "cell_type": "code",
   "execution_count": null,
   "metadata": {},
   "outputs": [
    {
     "name": "stdout",
     "output_type": "stream",
     "text": [
      "A soma dos valores é: 6\n"
     ]
    }
   ],
   "source": [
    "p_valor = int(input('Informe o Primeiro Valor:'))\n",
    "s_valor = int(input('Informe o Segundo Valor:'))\n",
    "t_valor = int(input('Informe o Terceiro Valor:'))\n",
    "\n",
    "soma = p_valor + s_valor + t_valor\n",
    "\n",
    "print(f'O resultado da Soma dos três valores é: {soma}')"
   ]
  },
  {
   "cell_type": "markdown",
   "metadata": {},
   "source": [
    "3. Crie um programa que solicite dois valores numéricos à pessoa usuária e imprima a subtração do primeiro pelo o segundo valor."
   ]
  },
  {
   "cell_type": "code",
   "execution_count": null,
   "metadata": {},
   "outputs": [
    {
     "name": "stdout",
     "output_type": "stream",
     "text": [
      "A subtração destes valores é: 2\n"
     ]
    }
   ],
   "source": [
    "p_valor = int(input('Digite o Primeiro Valor:'))\n",
    "s_valor = int(input('Digite o Segundo Valor:'))\n",
    "\n",
    "subtracao = p_valor - s_valor\n",
    "\n",
    "print (f'O resultado da Subtração é: {subtracao}')"
   ]
  },
  {
   "cell_type": "markdown",
   "metadata": {},
   "source": [
    "4. Crie um programa que solicite dois valores numéricos à pessoa usuária e imprima a multiplicação dos dois valores."
   ]
  },
  {
   "cell_type": "code",
   "execution_count": 10,
   "metadata": {},
   "outputs": [
    {
     "name": "stdout",
     "output_type": "stream",
     "text": [
      "O resultado da Multiplicação é: 4\n"
     ]
    }
   ],
   "source": [
    "p_valor = int(input('Digite o Primeiro Valor:'))\n",
    "s_valor = int(input('Informe o Segundo Valor:'))\n",
    "\n",
    "mult = p_valor*s_valor\n",
    "\n",
    "print(f'O resultado da Multiplicação é: {mult}')"
   ]
  },
  {
   "cell_type": "markdown",
   "metadata": {},
   "source": [
    "5. Crie um programa que solicite dois valores numéricos, um numerador e um denominador, e realize a divisão entre os dois valores. Deixe claro que o valor do denominador não pode ser 0."
   ]
  },
  {
   "cell_type": "code",
   "execution_count": 13,
   "metadata": {},
   "outputs": [
    {
     "name": "stdout",
     "output_type": "stream",
     "text": [
      "O resultado da divisão é: 1.3333333333333333\n"
     ]
    }
   ],
   "source": [
    "numerador = float(input('Informe o valor para o Numerador:'))\n",
    "denominador = float(input('Informe o valor para o Denominador:\\nObs: O valor do Denominador não pode ser 0.'))\n",
    "\n",
    "divisao = numerador/denominador\n",
    "\n",
    "print(f'O resultado da divisão é: {divisao}')\n"
   ]
  },
  {
   "cell_type": "markdown",
   "metadata": {},
   "source": [
    "6. Crie um programa que solicite dois valores numéricos, um operador e uma potência, e realize a exponenciação entre esses dois valores."
   ]
  },
  {
   "cell_type": "code",
   "execution_count": 16,
   "metadata": {},
   "outputs": [
    {
     "name": "stdout",
     "output_type": "stream",
     "text": [
      "5 elevado a 2 = 25\n"
     ]
    }
   ],
   "source": [
    "operador = int(input('Digite o valor para o Operador:\\n'))\n",
    "potencia = int(input('Digite o valor para a Potência:\\n'))\n",
    "\n",
    "resultado = operador**potencia\n",
    "\n",
    "print(f'{operador} elevado a {potencia} = {resultado}')"
   ]
  },
  {
   "cell_type": "markdown",
   "metadata": {},
   "source": [
    "- 7. Crie um programa que solicite dois valores numéricos, um numerador e um denominador e realize a divisão inteira entre os dois valores. Deixe claro que o valor do denominador não pode ser 0."
   ]
  },
  {
   "cell_type": "code",
   "execution_count": 17,
   "metadata": {},
   "outputs": [
    {
     "name": "stdout",
     "output_type": "stream",
     "text": [
      "O resultado da divisão inteira é: 2.0\n"
     ]
    }
   ],
   "source": [
    "numerador = float(input('Digite um valor para o Numerador:'))\n",
    "denominador = float (input('Digite um valor para o Denominador:\\nObs: O valor do Denominador não pode ser 0.'))\n",
    "\n",
    "resultado = numerador//denominador\n",
    "\n",
    "print(f'O resultado da divisão inteira é: {resultado}')\n"
   ]
  },
  {
   "cell_type": "markdown",
   "metadata": {},
   "source": [
    "- 8. Crie um programa que solicite dois valores numéricos, um numerador e um denominador, e retorne o resto da divisão entre os dois valores. Deixe claro que o valor do denominador não pode ser 0."
   ]
  },
  {
   "cell_type": "code",
   "execution_count": 18,
   "metadata": {},
   "outputs": [
    {
     "name": "stdout",
     "output_type": "stream",
     "text": [
      "O resultado do resto da divisão é: 1.0\n"
     ]
    }
   ],
   "source": [
    "numerador = float(input('Digite um valor para o Numerador:'))\n",
    "denominador = float(input('Digite um valor para o Denominador:\\n O valor do Denominador não pode ser 0.'))\n",
    "\n",
    "resto_div = numerador%denominador\n",
    "\n",
    "print(f'O resultado do resto da divisão é: {resto_div}')\n",
    "\n"
   ]
  },
  {
   "cell_type": "markdown",
   "metadata": {},
   "source": [
    "9. Crie um código que solicita 3 notas de um estudante e imprima a média das notas."
   ]
  },
  {
   "cell_type": "code",
   "execution_count": 20,
   "metadata": {},
   "outputs": [
    {
     "name": "stdout",
     "output_type": "stream",
     "text": [
      "A Média das Notas informadas é: 5.0\n"
     ]
    }
   ],
   "source": [
    "nota1 = float(input('Informe a Primeira Nota:'))\n",
    "nota2 = float(input('Informe a Segunda Nota:'))\n",
    "nota3 = float(input('Informe a Terceira Nota:'))\n",
    "\n",
    "media = ((nota1+nota2+nota3)/3)\n",
    "\n",
    "print(f'A Média das Notas informadas é: {media}')"
   ]
  },
  {
   "cell_type": "markdown",
   "metadata": {},
   "source": [
    "10. Crie um código que calcule e imprima a média ponderada dos números 5, 12, 20 e 15 com pesos respectivamente iguais a 1, 2, 3 e 4."
   ]
  },
  {
   "cell_type": "code",
   "execution_count": 21,
   "metadata": {},
   "outputs": [
    {
     "name": "stdout",
     "output_type": "stream",
     "text": [
      "A media ponderada dos valores é: 14.9\n"
     ]
    }
   ],
   "source": [
    "media_ponderada = ((5*1)+(12*2)+(20*3)+(15*4))/(1+2+3+4)\n",
    "\n",
    "print(f'A media ponderada dos valores é: {media_ponderada}')"
   ]
  },
  {
   "cell_type": "markdown",
   "metadata": {},
   "source": [
    "***--->EDITANDO TEXTOS<---***"
   ]
  },
  {
   "cell_type": "markdown",
   "metadata": {},
   "source": [
    "1. Crie uma variável chamada “frase” e atribua a ela uma string de sua escolha. Em seguida, imprima a frase na tela."
   ]
  },
  {
   "cell_type": "code",
   "execution_count": 22,
   "metadata": {},
   "outputs": [
    {
     "name": "stdout",
     "output_type": "stream",
     "text": [
      "DataScience\n"
     ]
    }
   ],
   "source": [
    "frase = 'DataScience'\n",
    "\n",
    "print(frase)"
   ]
  },
  {
   "cell_type": "markdown",
   "metadata": {},
   "source": [
    "2. Crie um código que solicite uma frase e depois imprima a frase na tela."
   ]
  },
  {
   "cell_type": "code",
   "execution_count": 23,
   "metadata": {},
   "outputs": [
    {
     "name": "stdout",
     "output_type": "stream",
     "text": [
      "A frase digitada foi:\n",
      "Vou me tornar um cientista de dados !\n"
     ]
    }
   ],
   "source": [
    "frase = str(input('Digite uma frase:'))\n",
    "\n",
    "print(f'A frase digitada foi:\\n{frase}')"
   ]
  },
  {
   "cell_type": "markdown",
   "metadata": {},
   "source": [
    "3. Crie um código que solicite uma frase à pessoa usuária e imprima a mesma frase digitada mas com todas as letras maiúsculas."
   ]
  },
  {
   "cell_type": "code",
   "execution_count": 24,
   "metadata": {},
   "outputs": [
    {
     "name": "stdout",
     "output_type": "stream",
     "text": [
      "EU GOSTARIA DE APRENDER MAIS SOBRE CIÊNCIA DE DADOS PARA EU PODER ME TORNAR UM BOM PROFISSIONAL.\n"
     ]
    }
   ],
   "source": [
    "frase = str(input('Digite uma frase:'))\n",
    "\n",
    "frase = frase.upper()\n",
    "\n",
    "print(frase)"
   ]
  },
  {
   "cell_type": "markdown",
   "metadata": {},
   "source": [
    "4. Crie um código que solicite uma frase à pessoa usuária e imprima a mesma frase digitada mas com todas as letras minúsculas."
   ]
  },
  {
   "cell_type": "code",
   "execution_count": 25,
   "metadata": {},
   "outputs": [
    {
     "name": "stdout",
     "output_type": "stream",
     "text": [
      "eu vou me tornar um excelente profissional para poder trabalhar com análise de dados, eu acredito, eu posso !\n"
     ]
    }
   ],
   "source": [
    "frase = str(input('Digite uma frase:\\n'))\n",
    "\n",
    "frase = frase.lower()\n",
    "\n",
    "print(frase)\n",
    "\n"
   ]
  },
  {
   "cell_type": "markdown",
   "metadata": {},
   "source": [
    "5. Crie uma variável chamada “frase” e atribua a ela uma string de sua escolha. Em seguida, imprima a frase sem espaços em branco no início e no fim."
   ]
  },
  {
   "cell_type": "code",
   "execution_count": null,
   "metadata": {},
   "outputs": [
    {
     "name": "stdout",
     "output_type": "stream",
     "text": [
      "O Senhor é meu Pastor e nada me Faltara!\n"
     ]
    }
   ],
   "source": [
    "frase = '               O Senhor é meu Pastor e nada me Faltara!                      '\n",
    "\n",
    "frase = frase.strip()\n",
    "\n",
    "print(frase)\n",
    "\n",
    "\n"
   ]
  },
  {
   "cell_type": "markdown",
   "metadata": {},
   "source": [
    "6. Crie um código que solicite uma frase à pessoa usuária e imprima a mesma frase sem espaços em branco no início e no fim."
   ]
  },
  {
   "cell_type": "code",
   "execution_count": 31,
   "metadata": {},
   "outputs": [
    {
     "name": "stdout",
     "output_type": "stream",
     "text": [
      "Eu vou conseguir !\n"
     ]
    }
   ],
   "source": [
    "frase = str(input('Digite uma frase: '))\n",
    "\n",
    "frase = frase.strip()\n",
    "\n",
    "print(frase)"
   ]
  },
  {
   "cell_type": "markdown",
   "metadata": {},
   "source": [
    "7. Crie um código que solicite uma frase à pessoa usuária e imprima a mesma frase sem espaços em branco no início e no fim e em letras minúsculas."
   ]
  },
  {
   "cell_type": "code",
   "execution_count": 32,
   "metadata": {},
   "outputs": [
    {
     "name": "stdout",
     "output_type": "stream",
     "text": [
      "eu vou conseguir\n"
     ]
    }
   ],
   "source": [
    "frase = str(input('Digite uma frase:'))\n",
    "\n",
    "frase = frase.strip().lower()\n",
    "\n",
    "print(frase)\n"
   ]
  },
  {
   "cell_type": "markdown",
   "metadata": {},
   "source": [
    "8. Crie um código que solicite uma frase à pessoa usuária e imprima a mesma frase com todas as vogais “e” trocadas pela letra “f”."
   ]
  },
  {
   "cell_type": "code",
   "execution_count": 34,
   "metadata": {},
   "outputs": [
    {
     "data": {
      "text/plain": [
       "'fscola ciência df dados'"
      ]
     },
     "execution_count": 34,
     "metadata": {},
     "output_type": "execute_result"
    }
   ],
   "source": [
    "frase = str(input('Digite uma frase:'))\n",
    "\n",
    "frase = frase.replace('e','f')\n",
    "\n",
    "frase"
   ]
  },
  {
   "cell_type": "markdown",
   "metadata": {},
   "source": [
    "9. Crie um código que solicite uma frase à pessoa usuária e imprima a mesma frase com todas as vogais “a” trocadas pela caractere “@”."
   ]
  },
  {
   "cell_type": "code",
   "execution_count": 36,
   "metadata": {},
   "outputs": [
    {
     "name": "stdout",
     "output_type": "stream",
     "text": [
      "@prendendo sobre cienci@ de d@dos\n"
     ]
    }
   ],
   "source": [
    "frase = str(input('Digite uma frase:'))\n",
    "\n",
    "frase = frase.replace('a', '@')\n",
    "\n",
    "print(frase)"
   ]
  },
  {
   "cell_type": "markdown",
   "metadata": {},
   "source": [
    "10. Crie um código que solicite uma frase à pessoa usuária e imprima a mesma frase com todas as consoantes “s” trocadas pelo caractere “$”."
   ]
  },
  {
   "cell_type": "code",
   "execution_count": 37,
   "metadata": {},
   "outputs": [
    {
     "name": "stdout",
     "output_type": "stream",
     "text": [
      "e$tudando $obre ciencia de dado$\n"
     ]
    }
   ],
   "source": [
    "frase = str(input('Informe uma frase:'))\n",
    "\n",
    "frase = frase.replace('s', '$')\n",
    "\n",
    "print(frase)\n"
   ]
  }
 ],
 "metadata": {
  "kernelspec": {
   "display_name": "Python 3",
   "language": "python",
   "name": "python3"
  },
  "language_info": {
   "codemirror_mode": {
    "name": "ipython",
    "version": 3
   },
   "file_extension": ".py",
   "mimetype": "text/x-python",
   "name": "python",
   "nbconvert_exporter": "python",
   "pygments_lexer": "ipython3",
   "version": "3.13.0"
  }
 },
 "nbformat": 4,
 "nbformat_minor": 2
}
