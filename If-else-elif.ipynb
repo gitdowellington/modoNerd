{
 "cells": [
  {
   "cell_type": "markdown",
   "metadata": {},
   "source": [
    "**ESTRUTURAS CONDICIONAIS**\n",
    "\n",
    "- Nas estruturas condicionais temos o **if**, **else** e o **elif**.\n",
    "\n",
    "- O if é uma palavra-chave em Python que significa: \"Se\". Ele é usado para formar uma estrutura condicional, que permite que você verifique se uma determinada condição é verdadeira ou falsa e, em seguida, executa um bloco de código específico, se a verificação for verdadeira.\n"
   ]
  },
  {
   "cell_type": "markdown",
   "metadata": {},
   "source": [
    "**Estrutura Condicional: IF**\n",
    "\n",
    "- A sintaxe para usar o if é:"
   ]
  },
  {
   "cell_type": "code",
   "execution_count": null,
   "metadata": {},
   "outputs": [],
   "source": [
    "# if condição:\n",
    "    # faça algo"
   ]
  },
  {
   "cell_type": "markdown",
   "metadata": {},
   "source": [
    "- Podemos montar um exemplo da utilização da estrutura condicional **if** que identifica se um dado número é maior que 5:"
   ]
  },
  {
   "cell_type": "code",
   "execution_count": null,
   "metadata": {},
   "outputs": [
    {
     "name": "stdout",
     "output_type": "stream",
     "text": [
      "O número é maior que 5.\n"
     ]
    }
   ],
   "source": [
    "numero = int(input('Digite um número:'))\n",
    "\n",
    "if numero > 5:\n",
    "    print('O número é maior que 5.')"
   ]
  },
  {
   "cell_type": "markdown",
   "metadata": {},
   "source": [
    "**Estrutura Condicional: ELSE**"
   ]
  },
  {
   "cell_type": "markdown",
   "metadata": {},
   "source": [
    "- Já o **else** é uma estrutura opcional usada em conjunto com o **if** para formar uma estrutura condicional. \n",
    "\n",
    "- O **else** é uma palavra chave para \"Se não\" e é executado quando a condição especificada na estrutura condicional anterior não for atendida.\n",
    "\n",
    "- A sintaxe para usar o **else** é:"
   ]
  },
  {
   "cell_type": "code",
   "execution_count": null,
   "metadata": {},
   "outputs": [],
   "source": [
    "# if condição:\n",
    "    # Bloco de Código a ser executado se for verdadeiro\n",
    "# else:\n",
    "    # O Bloco de código será executado se a condição anterior não for atendida. "
   ]
  },
  {
   "cell_type": "markdown",
   "metadata": {},
   "source": [
    "- Podemos montar um exemplo que identifica se um dado número é maior ou menor que 5:"
   ]
  },
  {
   "cell_type": "code",
   "execution_count": 2,
   "metadata": {},
   "outputs": [
    {
     "name": "stdout",
     "output_type": "stream",
     "text": [
      "O número é maior que 5.\n"
     ]
    }
   ],
   "source": [
    "numero = int(input('Digite um número:'))\n",
    "\n",
    "if numero > 5:\n",
    "    print('O número é maior que 5.')\n",
    "else:\n",
    "    print('O número é menor que 5.')"
   ]
  },
  {
   "cell_type": "markdown",
   "metadata": {},
   "source": [
    "**ESTRUTURA - ELIF**\n",
    "\n",
    "- Por fim, temos o **elif**, uma palavra chave em Python que significa \"Se não, se\" e pode ser considerado uma união do **else** com **if** para formar uma estrutura condicional encadeada.\n",
    "\n",
    "- Sua sintaxe é dada pela seguinte estrutura:"
   ]
  },
  {
   "cell_type": "code",
   "execution_count": null,
   "metadata": {},
   "outputs": [],
   "source": [
    "# if condição_1:\n",
    "    # faça algo.\n",
    "# elif condição_2:\n",
    "    # faça outra coisa.\n",
    "# elif condição_3:\n",
    "    # faça mais alguma coisa."
   ]
  },
  {
   "cell_type": "markdown",
   "metadata": {},
   "source": [
    "- O **elif** permite encadear condições.\n",
    "\n",
    "- Se a primeira condição for avaliada como false, o interpretador Python avaliará a próxima condição no elif, e assim por diante.\n",
    "\n",
    "- Isso continuará até que uma condição seja avaliada como True, ou nenhuma das condições sejam verdadeiras e sejam ignorados os blocos de código.\n",
    "\n",
    "- Um exemplo de código com elif é a estrutura para verificar, dados dois números, qual é o maior entre eles ou se ambos são iguais:"
   ]
  },
  {
   "cell_type": "code",
   "execution_count": 3,
   "metadata": {},
   "outputs": [
    {
     "name": "stdout",
     "output_type": "stream",
     "text": [
      "O Pimeiro número é maior: 8.0\n"
     ]
    }
   ],
   "source": [
    "numero_1 = float(input('Digite o Primeiro número:'))\n",
    "\n",
    "numero_2 = float(input('Digite o Segundo número:'))\n",
    "\n",
    "if numero_1 > numero_2:\n",
    "    print(f'O Pimeiro número é maior: {numero_1}')\n",
    "elif numero_2 > numero_1:\n",
    "    print(f'O Segundo número é maior: {numero_2}')\n",
    "else:\n",
    "    print(f'Os dois números são iguais, Primeiro Número: {numero_1}, Segundo número: {numero_2}')\n",
    "\n"
   ]
  }
 ],
 "metadata": {
  "kernelspec": {
   "display_name": "Python 3",
   "language": "python",
   "name": "python3"
  },
  "language_info": {
   "codemirror_mode": {
    "name": "ipython",
    "version": 3
   },
   "file_extension": ".py",
   "mimetype": "text/x-python",
   "name": "python",
   "nbconvert_exporter": "python",
   "pygments_lexer": "ipython3",
   "version": "3.13.0"
  }
 },
 "nbformat": 4,
 "nbformat_minor": 2
}
