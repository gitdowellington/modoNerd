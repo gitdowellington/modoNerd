{
 "cells": [
  {
   "cell_type": "markdown",
   "metadata": {},
   "source": [
    "**Estruturas de Dados - Dicionários - Resumo:**\n",
    "\n",
    "- Os dicionários são um tipo de estrutura de dados que armazenam pares de chave-valor. \n",
    "\n",
    "- Eles são delimitados por chaves **{ }** e os pares chave-valor são separados por vírgulas, como mostra a sintaxe:"
   ]
  },
  {
   "cell_type": "code",
   "execution_count": null,
   "metadata": {},
   "outputs": [],
   "source": [
    "#Exemplo:\n",
    "\n",
    "# dicionario = {chave: valor} #\n"
   ]
  },
  {
   "cell_type": "markdown",
   "metadata": {},
   "source": [
    "- A chave é um elemento único que identifica um valor no dicionário, enquanto o valor é o item que é armazenado para a chave. \n",
    "\n",
    "- As chaves e os valores podem ser de qualquer tipo de dado.\n",
    "\n",
    "- Os dicionários são úteis para armazenar e acessar dados de maneira organizada e rápida, além de permitirem uma organização mais dinâmica.\n",
    "\n",
    "- Um exemplo é construir uma ficha de cadastro de um funcionário.\n"
   ]
  },
  {
   "cell_type": "code",
   "execution_count": 2,
   "metadata": {},
   "outputs": [
    {
     "name": "stdout",
     "output_type": "stream",
     "text": [
      "{'numero_cadastro': 136059, 'dia_cadastro': 3, 'mes_cadastro': 2, 'funcao': 'Analista de Sistemas'}\n"
     ]
    }
   ],
   "source": [
    "cadastro = {'numero_cadastro': 136059,\n",
    "            'dia_cadastro': 3,\n",
    "            'mes_cadastro': 2,\n",
    "            'funcao': 'Analista de Sistemas'}\n",
    "\n",
    "print(cadastro)"
   ]
  },
  {
   "cell_type": "markdown",
   "metadata": {},
   "source": [
    "- Acessamos os valores de cada elemento especificando sua chave correspondente:\n"
   ]
  },
  {
   "cell_type": "code",
   "execution_count": 3,
   "metadata": {},
   "outputs": [
    {
     "name": "stdout",
     "output_type": "stream",
     "text": [
      "136059 3 2 Analista de Sistemas\n"
     ]
    }
   ],
   "source": [
    "print(cadastro['numero_cadastro'],\n",
    "      cadastro['dia_cadastro'],\n",
    "      cadastro['mes_cadastro'],\n",
    "      cadastro['funcao'])"
   ]
  },
  {
   "cell_type": "markdown",
   "metadata": {},
   "source": [
    "- Podemos alterar o valor de cada chave especificando a chave do elemento que será modificado e atribuindo o novo dado com o operador de atribuição. \n",
    "\n",
    "- Vamos trocar a função de limpeza para manutenção:\n"
   ]
  },
  {
   "cell_type": "code",
   "execution_count": 5,
   "metadata": {},
   "outputs": [
    {
     "name": "stdout",
     "output_type": "stream",
     "text": [
      "{'numero_cadastro': 136059, 'dia_cadastro': 3, 'mes_cadastro': 9, 'funcao': 'estudante'}\n",
      "{'numero_cadastro': 136059, 'dia_cadastro': 3, 'mes_cadastro': 9, 'funcao': 'estudante'}\n"
     ]
    }
   ],
   "source": [
    "cadastro['funcao'] = 'estudante'\n",
    "print(cadastro)\n",
    "\n",
    "cadastro['mes_cadastro'] = 9\n",
    "print(cadastro)"
   ]
  },
  {
   "cell_type": "markdown",
   "metadata": {},
   "source": [
    "**Métodos com Dicionários:**\n",
    "\n",
    "- Assim como as listas, os dicionários também oferecem muitas funções e métodos úteis para manipular seus itens.\n",
    "\n",
    "- Então, vamos verificar alguns métodos com listas, considerando que \"deci\" é o seguinte conjunto de dados:"
   ]
  },
  {
   "cell_type": "code",
   "execution_count": 6,
   "metadata": {},
   "outputs": [
    {
     "name": "stdout",
     "output_type": "stream",
     "text": [
      "{'nome': 'Wellington', 'idade': 28, 'nota_01': 8.5, 'nota_02': 8.5}\n"
     ]
    }
   ],
   "source": [
    "#Exemplo: Criando um dicionário chamado: dici\n",
    "\n",
    "dici = {'nome': 'Wellington',\n",
    "        'idade': 28,\n",
    "        'nota_01': 8.5,\n",
    "        'nota_02': 8.5\n",
    "        }\n",
    "\n",
    "print(dici)"
   ]
  },
  {
   "cell_type": "markdown",
   "metadata": {},
   "source": [
    "- **Método Clear( )**:\n",
    "\n",
    "- Remove todos os itens de um dicionário."
   ]
  },
  {
   "cell_type": "code",
   "execution_count": 7,
   "metadata": {},
   "outputs": [
    {
     "data": {
      "text/plain": [
       "{}"
      ]
     },
     "execution_count": 7,
     "metadata": {},
     "output_type": "execute_result"
    }
   ],
   "source": [
    "#Exemplo: Após a utilização do método, o dicionário ficou vazio. \n",
    "\n",
    "dici.clear()\n",
    "\n",
    "dici"
   ]
  },
  {
   "cell_type": "markdown",
   "metadata": {},
   "source": [
    "- **Método Copy( )**:\n",
    "\n",
    "- Retorna uma cópia do dicionário."
   ]
  },
  {
   "cell_type": "code",
   "execution_count": 8,
   "metadata": {},
   "outputs": [
    {
     "name": "stdout",
     "output_type": "stream",
     "text": [
      "{'nome': 'Wellington', 'idade': 28, 'nota_01': 8.5, 'nota_02': 8.5}\n",
      "{'nome': 'Wellington', 'idade': 28, 'nota_01': 8.5, 'nota_02': 8.5}\n"
     ]
    }
   ],
   "source": [
    "#Exemplo: a variável novo_dici através do método, recebe uma códia do dicionário dici.\n",
    "\n",
    "dici = {'nome': 'Wellington',\n",
    "        'idade': 28,\n",
    "        'nota_01': 8.5,\n",
    "        'nota_02': 8.5\n",
    "        }\n",
    "\n",
    "novo_dici = dici.copy()\n",
    "\n",
    "print(dici)\n",
    "print(novo_dici)\n",
    "\n"
   ]
  },
  {
   "cell_type": "markdown",
   "metadata": {},
   "source": [
    "- **Método Dict.fromkeys( )**:\n",
    "\n",
    "- Cria um novo dicionário com chaves fornecidas por um iterável e todos os valores definidos como o valor padrão fornecido."
   ]
  },
  {
   "cell_type": "code",
   "execution_count": null,
   "metadata": {},
   "outputs": [
    {
     "name": "stdout",
     "output_type": "stream",
     "text": [
      "{'nota_1': 8.0, 'nota_2': 8.0}\n"
     ]
    }
   ],
   "source": [
    "#Exemplo: Neste caso, na iteração definimos as chaves que desejamos entre [], em seguida atribuímos um valor para as chaves.\n",
    "\n",
    "novas_notas = dict.fromkeys(['nota_1','nota_2'], 8.0)\n",
    "\n",
    "print(novas_notas)"
   ]
  },
  {
   "cell_type": "markdown",
   "metadata": {},
   "source": [
    "- **Método Get( )**: \n",
    "\n",
    "- Retorna o valor associado a uma chave específica no dicionário."
   ]
  },
  {
   "cell_type": "code",
   "execution_count": 50,
   "metadata": {},
   "outputs": [
    {
     "data": {
      "text/plain": [
       "'Wellington'"
      ]
     },
     "execution_count": 50,
     "metadata": {},
     "output_type": "execute_result"
    }
   ],
   "source": [
    "dici.get('nome')"
   ]
  },
  {
   "cell_type": "markdown",
   "metadata": {},
   "source": [
    "- **Método Items( )**: \n",
    "\n",
    "- Retorna uma lista de tuplas que representam os itens do dicionário (chave e valor)"
   ]
  },
  {
   "cell_type": "code",
   "execution_count": 56,
   "metadata": {},
   "outputs": [
    {
     "data": {
      "text/plain": [
       "dict_items([('nome', 'Wellington'), ('idade', 28), ('nota_01', 8.5), ('nota_02', 8.5)])"
      ]
     },
     "execution_count": 56,
     "metadata": {},
     "output_type": "execute_result"
    }
   ],
   "source": [
    "dici.items()"
   ]
  },
  {
   "cell_type": "markdown",
   "metadata": {},
   "source": [
    "- **Método keys(  )**: \n",
    "\n",
    "- Retorna uma lista de todas as chaves do dicionário."
   ]
  },
  {
   "cell_type": "code",
   "execution_count": 57,
   "metadata": {},
   "outputs": [
    {
     "data": {
      "text/plain": [
       "dict_keys(['nome', 'idade', 'nota_01', 'nota_02'])"
      ]
     },
     "execution_count": 57,
     "metadata": {},
     "output_type": "execute_result"
    }
   ],
   "source": [
    "dici.keys()"
   ]
  },
  {
   "cell_type": "markdown",
   "metadata": {},
   "source": [
    "- **Método Pop( )**: \n",
    "\n",
    "- Remove e retorna o valor associado a uma chave específica no dicionário."
   ]
  },
  {
   "cell_type": "code",
   "execution_count": 65,
   "metadata": {},
   "outputs": [
    {
     "data": {
      "text/plain": [
       "'Wellington'"
      ]
     },
     "execution_count": 65,
     "metadata": {},
     "output_type": "execute_result"
    }
   ],
   "source": [
    "dici.pop('nome')\n",
    "\n"
   ]
  },
  {
   "cell_type": "markdown",
   "metadata": {},
   "source": [
    "- **Método Popitem( )**:\n",
    "\n",
    "-  Remove e retorna um item aleatório do dicionário"
   ]
  },
  {
   "cell_type": "code",
   "execution_count": null,
   "metadata": {},
   "outputs": [
    {
     "data": {
      "text/plain": [
       "('apelido', 'Biu')"
      ]
     },
     "execution_count": 26,
     "metadata": {},
     "output_type": "execute_result"
    }
   ],
   "source": [
    "#Exemplo:\n",
    "\n",
    "dici.popitem()"
   ]
  },
  {
   "cell_type": "markdown",
   "metadata": {},
   "source": [
    "- **Método setdefault( )**: \n",
    "\n",
    "- Retorna o valor associado a uma chave específica no dicionário. \n",
    "\n",
    "- Se a chave não existir, ela é adicionada ao dicionário com o valor padrão fornecido."
   ]
  },
  {
   "cell_type": "code",
   "execution_count": null,
   "metadata": {},
   "outputs": [
    {
     "data": {
      "text/plain": [
       "'Wellington'"
      ]
     },
     "execution_count": 25,
     "metadata": {},
     "output_type": "execute_result"
    }
   ],
   "source": [
    "#Exemplo:\n",
    "\n",
    "dici.setdefault('nome')"
   ]
  },
  {
   "cell_type": "markdown",
   "metadata": {},
   "source": [
    "- **Método Update( )**: \n",
    "\n",
    "- Adiciona os itens de um outro dicionário para o dicionário atual e atualiza pares chave-valor existentes."
   ]
  },
  {
   "cell_type": "code",
   "execution_count": null,
   "metadata": {},
   "outputs": [
    {
     "name": "stdout",
     "output_type": "stream",
     "text": [
      "{'nome': 'Wellington', 'idade': 28, 'nota_01': 8.5, 'nota_02': 8.5, 'altura': 1.7, 'peso': 63.5, 'profisao': 'Desempregado'}\n"
     ]
    }
   ],
   "source": [
    "dici.update({'altura': 1.70, 'peso': 64.5, 'profissao': 'Desempregado'})"
   ]
  },
  {
   "cell_type": "markdown",
   "metadata": {},
   "source": [
    "- **Método Values( )**: \n",
    "\n",
    "- Retorna uma lista de todos os valores do dicionário."
   ]
  },
  {
   "cell_type": "code",
   "execution_count": 34,
   "metadata": {},
   "outputs": [
    {
     "data": {
      "text/plain": [
       "dict_values(['Wellington', 28, 8.5, 8.5, 1.7, 63.5, 'Desempregado'])"
      ]
     },
     "execution_count": 34,
     "metadata": {},
     "output_type": "execute_result"
    }
   ],
   "source": [
    "dici.values()"
   ]
  },
  {
   "cell_type": "markdown",
   "metadata": {},
   "source": [
    "- **OBS:** Os métodos **items**, **keys** e **values** permitem a leitura dos dados do dicionário através de laços **for**.\n",
    "\n",
    "- Vamos fazer três diferentes leituras com for, utilizando os três métodos que aprendemos"
   ]
  },
  {
   "cell_type": "code",
   "execution_count": 35,
   "metadata": {},
   "outputs": [],
   "source": [
    "dici = {'nome': 'Osmar', 'idade': 28, 'nota_1': 8.5, 'nota_2': 8.5}"
   ]
  },
  {
   "cell_type": "code",
   "execution_count": null,
   "metadata": {},
   "outputs": [
    {
     "name": "stdout",
     "output_type": "stream",
     "text": [
      "Osmar\n",
      "28\n",
      "8.5\n",
      "8.5\n"
     ]
    }
   ],
   "source": [
    "# Leitura com Keys\n",
    "\n",
    "for chaves in dici.keys():\n",
    "    print(dici[chaves])"
   ]
  },
  {
   "cell_type": "code",
   "execution_count": 37,
   "metadata": {},
   "outputs": [
    {
     "name": "stdout",
     "output_type": "stream",
     "text": [
      "Osmar\n",
      "28\n",
      "8.5\n",
      "8.5\n"
     ]
    }
   ],
   "source": [
    "# Leitura com Values\n",
    "\n",
    "for valores in dici.values():\n",
    "    print(valores)"
   ]
  },
  {
   "cell_type": "code",
   "execution_count": 38,
   "metadata": {},
   "outputs": [
    {
     "name": "stdout",
     "output_type": "stream",
     "text": [
      "nome Osmar\n",
      "idade 28\n",
      "nota_1 8.5\n",
      "nota_2 8.5\n"
     ]
    }
   ],
   "source": [
    "# Leitura com items\n",
    "\n",
    "for chaves, valores in dici.items():\n",
    "    print(chaves,valores)"
   ]
  },
  {
   "cell_type": "code",
   "execution_count": null,
   "metadata": {},
   "outputs": [],
   "source": []
  }
 ],
 "metadata": {
  "kernelspec": {
   "display_name": "Python 3",
   "language": "python",
   "name": "python3"
  },
  "language_info": {
   "codemirror_mode": {
    "name": "ipython",
    "version": 3
   },
   "file_extension": ".py",
   "mimetype": "text/x-python",
   "name": "python",
   "nbconvert_exporter": "python",
   "pygments_lexer": "ipython3",
   "version": "3.13.0"
  }
 },
 "nbformat": 4,
 "nbformat_minor": 2
}
