{
 "cells": [
  {
   "cell_type": "markdown",
   "metadata": {},
   "source": [
    "**ESTRUTURAS DE REPETIÇÃO**\n",
    "\n",
    "- Nas estruturas de repetição temos o **While** e o **For**.\n",
    "\n",
    "- O **While** é uma palavra-chave em Python que significa \"enquanto\". Ela permite executar um bloco de código repetidamente enquanto uma determinada condição é verdadeira.\n",
    "\n",
    "- Sua sintaxe é dada da seguinte forma:"
   ]
  },
  {
   "cell_type": "code",
   "execution_count": null,
   "metadata": {},
   "outputs": [],
   "source": [
    "while condição:\n",
    "    # bloco de código.\n",
    "\n",
    "    # Interessante:"
   ]
  },
  {
   "cell_type": "markdown",
   "metadata": {},
   "source": [
    "**LAÇO WHILE**\n",
    "\n",
    "- O bloco de código dentro do laço while será executado repetidamente enquanto a xondição for avaliada como True.\n",
    "\n",
    "- Quando a condição for avaliada como False, o laço será enterrompido e o programa continuará a executar o código depois do laço.\n",
    "\n",
    "- Um exemplo muito comum de uso do While é construindo um contador, um projeto que permite uma variável numérica ser incrementada de 1 a 1, como uma contagem. \n",
    "\n",
    "- Vamos fazer o contador de 1 a 10:"
   ]
  },
  {
   "cell_type": "code",
   "execution_count": null,
   "metadata": {},
   "outputs": [
    {
     "name": "stdout",
     "output_type": "stream",
     "text": [
      "1\n",
      "2\n",
      "3\n",
      "4\n",
      "5\n",
      "6\n",
      "7\n",
      "8\n",
      "9\n",
      "10\n"
     ]
    }
   ],
   "source": [
    "contadora = 1\n",
    "\n",
    "while contadora <= 10:\n",
    "    print(contadora)\n",
    "    contadora = contadora + 1\n"
   ]
  },
  {
   "cell_type": "markdown",
   "metadata": {},
   "source": [
    "**LAÇO FOR**\n",
    "\n",
    "- Enquanto isso, o laço for permite iterar sobre um conjunto de elementos. A sua sintaxe é dada da seguinte forma:"
   ]
  },
  {
   "cell_type": "code",
   "execution_count": null,
   "metadata": {},
   "outputs": [],
   "source": [
    "for elemento in conjunto:\n",
    "    #Código a ser executado para cada elemento."
   ]
  },
  {
   "cell_type": "markdown",
   "metadata": {},
   "source": [
    "- O for é uma palavra chave para \"por\" e podemos entender sua estrutura como \"por cada elemento em um dado conjunto faça...\"\n",
    "\n",
    "- Isso porque ele itera sobre cada elemento do conjunto especificado e executa o bloco de código dentro do laço para cada elemento.\n",
    "\n",
    "- Quando o laço chega ao final do conjunto, ele é interrompido e o programa continua a execução após o laço.\n",
    "\n",
    "- Podemos também construir uma contadora com for, mas para isso precisamos de um conjunto iterável que possa ser utilizado nele. \n",
    "\n",
    "- Pensando nisso, utilizaremos a função range.\n",
    "\n",
    "- a Função range é capaz de gerar uma sequência de números inteiros. A sua sintaxe é dada por:"
   ]
  },
  {
   "cell_type": "code",
   "execution_count": null,
   "metadata": {},
   "outputs": [],
   "source": [
    "range(inicio, fim, passo)"
   ]
  },
  {
   "cell_type": "markdown",
   "metadata": {},
   "source": [
    "- Segundo a documentação o range( ) gera uma sequência de números inteiros a partir do valor do parâmetro inicio até o valor do parâmetro fim, de acordo com o valor do parâmetro passo.\n",
    "\n",
    "- Se o inicio não for especificado, o valor padrão é 0.\n",
    "\n",
    "- Se o passo não for especificado, o valor padrão é 1."
   ]
  },
  {
   "cell_type": "code",
   "execution_count": 6,
   "metadata": {},
   "outputs": [
    {
     "name": "stdout",
     "output_type": "stream",
     "text": [
      "1\n",
      "2\n",
      "3\n",
      "4\n",
      "5\n",
      "6\n",
      "7\n",
      "8\n",
      "9\n",
      "10\n"
     ]
    }
   ],
   "source": [
    "for contador in range(1,11):\n",
    "    print(contador)"
   ]
  },
  {
   "cell_type": "markdown",
   "metadata": {},
   "source": [
    "**COMANDOS RELACIONADOS AOS LAÇOS**\n",
    "\n",
    "- Conseguimos controlar o fluxo de execuções dentro do bloco de código dos laços while e for através dos comandos de controle cintinue e break.\n",
    "\n",
    "- O continue interrompe a iteração atual do laõ e salta para a próxima iteração, ou seja, retorna ao início do código. \n",
    "\n",
    "- Já o break vai interromper a execução do laço completamente, saindo do bloco de código."
   ]
  },
  {
   "cell_type": "markdown",
   "metadata": {},
   "source": [
    "**CONTINUE**"
   ]
  },
  {
   "cell_type": "code",
   "execution_count": null,
   "metadata": {},
   "outputs": [],
   "source": [
    "    while condição:\n",
    "     -> # Código dentro do laço\n",
    "        continue\n",
    "        # código dentro do laço\n",
    "    # código fora do laço"
   ]
  },
  {
   "cell_type": "markdown",
   "metadata": {},
   "source": [
    "**BREAK**"
   ]
  },
  {
   "cell_type": "code",
   "execution_count": null,
   "metadata": {},
   "outputs": [],
   "source": [
    "while condição:\n",
    "    # Código dentro do laço\n",
    "    break\n",
    "    # Código dentro do laço\n",
    "# código fora do laço"
   ]
  }
 ],
 "metadata": {
  "kernelspec": {
   "display_name": "Python 3",
   "language": "python",
   "name": "python3"
  },
  "language_info": {
   "codemirror_mode": {
    "name": "ipython",
    "version": 3
   },
   "file_extension": ".py",
   "mimetype": "text/x-python",
   "name": "python",
   "nbconvert_exporter": "python",
   "pygments_lexer": "ipython3",
   "version": "3.13.0"
  }
 },
 "nbformat": 4,
 "nbformat_minor": 2
}
